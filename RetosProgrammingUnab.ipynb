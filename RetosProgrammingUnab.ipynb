{
  "nbformat": 4,
  "nbformat_minor": 0,
  "metadata": {
    "colab": {
      "name": "Untitled1.ipynb",
      "provenance": []
    },
    "kernelspec": {
      "name": "python3",
      "display_name": "Python 3"
    },
    "language_info": {
      "name": "python"
    }
  },
  "cells": [
    {
      "cell_type": "code",
      "execution_count": null,
      "metadata": {
        "id": "1m9jNu4JIoG1"
      },
      "outputs": [],
      "source": []
    },
    {
      "cell_type": "markdown",
      "source": [
        "Retos\n"
      ],
      "metadata": {
        "id": "5AuC_xMaIovG"
      }
    },
    {
      "cell_type": "code",
      "source": [
        "#Indicar si un número N es un número primo(siendo N un numero que se lee)\n",
        "\n",
        "contador = 0\n",
        "\n",
        "num= int(input(\"Digita un numero: \"))\n",
        "\n",
        "for i in range(1, num+1):\n",
        "  if num%i == 0:\n",
        "    contador +=1\n",
        "\n",
        "if contador == 2:\n",
        "  print(f\"{num} es un numero primo\")\n",
        "else:\n",
        "    print(f\"{num} no es un numero primo\")    \n",
        "      "
      ],
      "metadata": {
        "id": "mZ6ImS-oIryN",
        "colab": {
          "base_uri": "https://localhost:8080/"
        },
        "outputId": "854510f7-bac1-4084-997f-ad1e9b62e29c"
      },
      "execution_count": 9,
      "outputs": [
        {
          "output_type": "stream",
          "name": "stdout",
          "text": [
            "Digita un numero: 13\n",
            "13 es un numero primo\n"
          ]
        }
      ]
    },
    {
      "cell_type": "markdown",
      "source": [
        "Reto 2"
      ],
      "metadata": {
        "id": "tKA2OJ_LLjSn"
      }
    },
    {
      "cell_type": "code",
      "source": [
        "from ast import Return\n",
        "#Imprimir los 30 primeros numeros de Fibonacci\n",
        "\n",
        "x= 0\n",
        "y= 1\n",
        "z =0\n",
        "\n",
        "while True:\n",
        "    n = int(input(\"Digita el rango hasta el cual quieres que se muestre los numeros de Fibonacci: \"))\n",
        "    if n>1:\n",
        "      break\n",
        "\n",
        "print(\"1\", end=\" \")\n",
        "for i in range(0, n):\n",
        "  z= x+y\n",
        "  print(f\"{z}\", end=\" \")\n",
        "  x=y\n",
        "  y=z\n",
        "\n",
        "print(\"\")  \n",
        "\n",
        "\n",
        "\n",
        "\n",
        "\n",
        "\n",
        "\n",
        "    \n",
        "\n",
        "\n"
      ],
      "metadata": {
        "id": "gdU5WOgmLnPV",
        "colab": {
          "base_uri": "https://localhost:8080/"
        },
        "outputId": "04be528e-1163-4da3-aa51-245cc9b30879"
      },
      "execution_count": 2,
      "outputs": [
        {
          "output_type": "stream",
          "name": "stdout",
          "text": [
            "Digita el rango hasta el cual quieres que se muestre los numeros de Fibonacci: 7\n",
            "1 1 2 3 5 8 13 21 \n"
          ]
        }
      ]
    },
    {
      "cell_type": "markdown",
      "source": [
        "Reto 3"
      ],
      "metadata": {
        "id": "YZRzJjw6BLwp"
      }
    },
    {
      "cell_type": "code",
      "source": [
        "#Calcular la factorial de un número N (siendo N un número que se lee).\n",
        "\n",
        "num = int(input(\"Digita un numero: \"))\n",
        "\n",
        "factorial = 1 \n",
        "\n",
        "if num!=0:\n",
        "  for i in range(1, num+1):\n",
        "    factorial = factorial*i\n",
        "\n",
        "print(f\"Factorial: {factorial}\")    \n"
      ],
      "metadata": {
        "colab": {
          "base_uri": "https://localhost:8080/"
        },
        "id": "HxJ2J5EJCTp3",
        "outputId": "81810d71-aa82-4cae-dc71-fbff2d1fffff"
      },
      "execution_count": 39,
      "outputs": [
        {
          "output_type": "stream",
          "name": "stdout",
          "text": [
            "Digita un numero: 6\n",
            "Factorial: 720\n"
          ]
        }
      ]
    },
    {
      "cell_type": "markdown",
      "source": [
        "Reto 4"
      ],
      "metadata": {
        "id": "HrvW9ED_ET-c"
      }
    },
    {
      "cell_type": "code",
      "source": [
        "#Calcular la factorial de 10 números diferentes cuyos valores se leen.\n",
        "\n",
        "calNum = int(input(\"A Cuantos numeros deseas hallarle el factorial: \"))\n",
        "#num = int(input(\"Digita un numero: \"))\n",
        "\n",
        "factorial = 1 \n",
        "contador = 0\n",
        "\n",
        "while contador<calNum and num>0:\n",
        "  num = int(input(\"Digita un numero: \"))\n",
        "  contador +=1\n",
        "  factorial = 1\n",
        "  if num!=0:\n",
        "    for i in range(1, num+1):\n",
        "      factorial = factorial*i\n",
        "    print(f\"Factorial: {factorial}\")\n",
        "      \n",
        "\n",
        "\n",
        "\n",
        "\n",
        "     \n",
        "\n",
        "     \n"
      ],
      "metadata": {
        "colab": {
          "base_uri": "https://localhost:8080/"
        },
        "id": "dN_fao6BEZtf",
        "outputId": "55278fae-28dc-4f0f-c4b9-8e489202f827"
      },
      "execution_count": 40,
      "outputs": [
        {
          "output_type": "stream",
          "name": "stdout",
          "text": [
            "A Cuantos numeros deseas hallarle el factorial: 3\n",
            "Digita un numero: 2\n",
            "Factorial: 2\n",
            "Digita un numero: 4\n",
            "Factorial: 24\n",
            "Digita un numero: 5\n",
            "Factorial: 120\n"
          ]
        }
      ]
    },
    {
      "cell_type": "markdown",
      "source": [
        "\n",
        "## Reto 5\n",
        "\n"
      ],
      "metadata": {
        "id": "Q6LU9HCRkPcz"
      }
    },
    {
      "cell_type": "code",
      "source": [
        "#Leer 20 números y encontrar el mayor y el menor valor leídos. \n",
        "\n",
        "lista= []\n",
        "cantidad = int(input(\"Digita la cantidad de numeros a enlistar: \"))\n",
        "mayor = 0\n",
        "menor = 0\n",
        "i=1\n",
        "\n",
        "while cantidad>0:\n",
        "  numero = float(input(\"Numero # \" + str(i) + \":\"))\n",
        "  lista.append(numero)\n",
        "  i+=1\n",
        "  cantidad-=1\n",
        "\n",
        "  mayor = max(lista)\n",
        "  menor = min(lista)\n",
        "\n",
        "print(\"Lista: \",lista)\n",
        "print(\"Mayor: \",mayor)\n",
        "print(\"Menor: \",menor)\n",
        "     "
      ],
      "metadata": {
        "colab": {
          "base_uri": "https://localhost:8080/"
        },
        "id": "ZlbX6_Tukhzn",
        "outputId": "bc5b60cd-d37b-4f19-a6b2-17745e56b10d"
      },
      "execution_count": 47,
      "outputs": [
        {
          "output_type": "stream",
          "name": "stdout",
          "text": [
            "Digita la cantidad de numeros a enlistar: 4\n",
            "Numero # 1:2\n",
            "Numero # 2:4\n",
            "Numero # 3:6\n",
            "Numero # 4:12\n",
            "Lista:  [2.0, 4.0, 6.0, 12.0]\n",
            "Mayor:  12.0\n",
            "Menor:  2.0\n"
          ]
        }
      ]
    },
    {
      "cell_type": "markdown",
      "source": [
        "# Reto 6"
      ],
      "metadata": {
        "id": "EJ3gvR_wC74q"
      }
    },
    {
      "cell_type": "code",
      "source": [
        "#Mostrar la tabla de multiplicar del número que seleccione el usuario. Revisar que esté en el rango de 1 a 10. \n",
        "\n",
        "\n",
        "numero = int(input(\"Digita un numero del cual quieres la tabla: \"))\n",
        "\n",
        "for i in range(0, 11):\n",
        "  resultado = numero*i\n",
        "  print(f\"{numero}\"+\" x \" + f\"{i}\" + \": \"+ f\"{resultado}\")"
      ],
      "metadata": {
        "colab": {
          "base_uri": "https://localhost:8080/"
        },
        "id": "AbZaC6A7C_ya",
        "outputId": "f6c28d62-619f-4354-fc39-eef7ab78264e"
      },
      "execution_count": 51,
      "outputs": [
        {
          "output_type": "stream",
          "name": "stdout",
          "text": [
            "Digita un numero del cual quieres la tabla: 7\n",
            "7 x 0: 0\n",
            "7 x 1: 7\n",
            "7 x 2: 14\n",
            "7 x 3: 21\n",
            "7 x 4: 28\n",
            "7 x 5: 35\n",
            "7 x 6: 42\n",
            "7 x 7: 49\n",
            "7 x 8: 56\n",
            "7 x 9: 63\n",
            "7 x 10: 70\n"
          ]
        }
      ]
    },
    {
      "cell_type": "markdown",
      "source": [
        "# Reto 7"
      ],
      "metadata": {
        "id": "mmLK2c89GsUE"
      }
    },
    {
      "cell_type": "code",
      "source": [
        "#Calcular la suma siguiente: 100+90+80+70+…+0. \n",
        "\n",
        "a = 0\n",
        "\n",
        "\n",
        "for i in range(100, a+1,-10):\n",
        "  a = i + a\n",
        "  \n",
        "\n",
        "  print(f\"{i}\", end=\" \"+ \" + \")\n",
        "print(f\": {a}\")\n",
        "  \n",
        "\n",
        "\n"
      ],
      "metadata": {
        "colab": {
          "base_uri": "https://localhost:8080/"
        },
        "id": "YoviD-y1GwHC",
        "outputId": "39eb8c99-bd56-463a-b8ae-0c6435779721"
      },
      "execution_count": 91,
      "outputs": [
        {
          "output_type": "stream",
          "name": "stdout",
          "text": [
            "100  + 90  + 80  + 70  + 60  + 50  + 40  + 30  + 20  + 10  + :   550\n"
          ]
        }
      ]
    },
    {
      "cell_type": "markdown",
      "source": [
        "# Reto 8"
      ],
      "metadata": {
        "id": "GC6JwoeLjPqk"
      }
    },
    {
      "cell_type": "code",
      "source": [
        "# Leer un número entero N y calcular la siguiente serie: 1-1/2-1/3+1/4-1/5\n",
        "\n",
        "a=0\n",
        "n = int(input(\"Digita un numero a calcular: \"))\n",
        "\n",
        "for i in range(1, n+1):\n",
        "  a = a+ (1.0/i)\n",
        "\n",
        "  print(f\"1/{i}\", end=\" \" + \" + \")\n",
        "print(f\"= {a}\")  \n",
        "\n",
        "\n"
      ],
      "metadata": {
        "colab": {
          "base_uri": "https://localhost:8080/"
        },
        "id": "6HtLxAQ6jSt1",
        "outputId": "ab9562c9-3955-4df0-f92e-57bb4c9bd8de"
      },
      "execution_count": 104,
      "outputs": [
        {
          "output_type": "stream",
          "name": "stdout",
          "text": [
            "Digita un numero a calcular: 4\n",
            "1/1  + 1/2  + 1/3  + 1/4  + = 2.083333333333333\n"
          ]
        }
      ]
    },
    {
      "cell_type": "markdown",
      "source": [
        "# Reto 9"
      ],
      "metadata": {
        "id": "DRgHZV7czAiu"
      }
    },
    {
      "cell_type": "code",
      "source": [
        "#Leer un número entero N y calcular el resultado de la serie: 2/1 4/3 6/5 8/7\n",
        "\n",
        "a= 0\n",
        "\n",
        "\n",
        "n = int(input(\"Digita el numero hasta el cual vamos a calcular: \"))\n",
        "\n",
        "for i in range(2,n+1,2):\n",
        "  a = float(a)+ float((i/j))\n",
        "  j = i-1\n",
        "\n",
        "  print(f\"{i}/{j}\", end=\" \"+\" + \")\n",
        "\n",
        "print(\"= \",float(a))  \n",
        "\n"
      ],
      "metadata": {
        "colab": {
          "base_uri": "https://localhost:8080/"
        },
        "id": "xNKkpcOGzDPx",
        "outputId": "83b4f76a-0372-4940-ad74-5f23b16a9c7c"
      },
      "execution_count": 124,
      "outputs": [
        {
          "output_type": "stream",
          "name": "stdout",
          "text": [
            "Digita el numero hasta el cual vamos a calcular: 6\n",
            "2/1  + 4/3  + 6/5  + =  6.4\n"
          ]
        }
      ]
    },
    {
      "cell_type": "markdown",
      "source": [
        "# Reto 10"
      ],
      "metadata": {
        "id": "C9koWV65ezXa"
      }
    },
    {
      "cell_type": "code",
      "source": [
        "#Multiplicar los números introducidos por el usuario que estén en el rango del 1 al 10. Terminar cuando el usuario introduzca un número fuera del rango y mostrar el resultado.\n",
        "\n",
        "mult=0\n",
        "\n",
        "n1 = int(input(\"Digita un numero: \"))\n",
        "n2 = int(input(\"Digita un numero: \"))\n",
        "\n",
        "while n1>=1 or n1<=10 or n2>=1 or n2<=10:\n",
        "   mult = n1*n2\n",
        "   n1 = int(input(\"Digita un numero: \"))\n",
        "   n2 = int(input(\"Digita un numero: \"))\n",
        "        \n",
        "  \n",
        "   if n1<0 or n1>10 or n2>10 or n2<0:\n",
        "      print(f\"la suma de la multiplicacion de la es: {mult}\")\n",
        "       \n",
        "\n",
        "     \n",
        "\n"
      ],
      "metadata": {
        "id": "vVWD_vhDe13O"
      },
      "execution_count": null,
      "outputs": []
    }
  ]
}